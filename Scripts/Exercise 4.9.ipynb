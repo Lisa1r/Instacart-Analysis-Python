{
 "cells": [
  {
   "cell_type": "markdown",
   "id": "0f738d71",
   "metadata": {},
   "source": [
    "# 01. Import libraries"
   ]
  },
  {
   "cell_type": "code",
   "execution_count": 1,
   "id": "1402727f",
   "metadata": {},
   "outputs": [],
   "source": [
    "import pandas as pd\n",
    "import numpy as np\n",
    "import os\n",
    "import matplotlib.pyplot as plt\n",
    "import seaborn as sns\n",
    "import scipy"
   ]
  },
  {
   "cell_type": "markdown",
   "id": "b5d17d1f",
   "metadata": {},
   "source": [
    "# 02. Import and check data"
   ]
  },
  {
   "cell_type": "code",
   "execution_count": 2,
   "id": "f12934f9",
   "metadata": {},
   "outputs": [],
   "source": [
    "# Define path\n",
    "path = r'/Users/elisabetta/Documents/12-2022 Instacart Basket Analysis'"
   ]
  },
  {
   "cell_type": "code",
   "execution_count": 3,
   "id": "95a43d2f",
   "metadata": {},
   "outputs": [],
   "source": [
    "# Import pickle file\n",
    "df_ords_prods_merged_3 = pd.read_pickle(os.path.join(path, '02 Data', 'Prepared Data', 'orders_products_merged_3.pkl'))"
   ]
  },
  {
   "cell_type": "code",
   "execution_count": 4,
   "id": "c949184b",
   "metadata": {},
   "outputs": [
    {
     "data": {
      "text/plain": [
       "(32404854, 23)"
      ]
     },
     "execution_count": 4,
     "metadata": {},
     "output_type": "execute_result"
    }
   ],
   "source": [
    "# Check import\n",
    "df_ords_prods_merged_3.shape"
   ]
  },
  {
   "cell_type": "code",
   "execution_count": 5,
   "id": "8ce1d7e2",
   "metadata": {},
   "outputs": [
    {
     "data": {
      "text/html": [
       "<div>\n",
       "<style scoped>\n",
       "    .dataframe tbody tr th:only-of-type {\n",
       "        vertical-align: middle;\n",
       "    }\n",
       "\n",
       "    .dataframe tbody tr th {\n",
       "        vertical-align: top;\n",
       "    }\n",
       "\n",
       "    .dataframe thead th {\n",
       "        text-align: right;\n",
       "    }\n",
       "</style>\n",
       "<table border=\"1\" class=\"dataframe\">\n",
       "  <thead>\n",
       "    <tr style=\"text-align: right;\">\n",
       "      <th></th>\n",
       "      <th>order_id</th>\n",
       "      <th>user_id</th>\n",
       "      <th>number_of_orders</th>\n",
       "      <th>order_day_of_week</th>\n",
       "      <th>order_hour_of_day</th>\n",
       "      <th>days_since_prior_order</th>\n",
       "      <th>product_id</th>\n",
       "      <th>add_to_cart_order</th>\n",
       "      <th>reordered</th>\n",
       "      <th>product_name</th>\n",
       "      <th>...</th>\n",
       "      <th>price_range</th>\n",
       "      <th>busy_day</th>\n",
       "      <th>busy_day_2</th>\n",
       "      <th>busiest_period_of_day</th>\n",
       "      <th>max_number_of_orders</th>\n",
       "      <th>loyalty_flag</th>\n",
       "      <th>avg_spend</th>\n",
       "      <th>spend_flag</th>\n",
       "      <th>median_d_s_p_o</th>\n",
       "      <th>frequency_flag</th>\n",
       "    </tr>\n",
       "  </thead>\n",
       "  <tbody>\n",
       "    <tr>\n",
       "      <th>0</th>\n",
       "      <td>2539329</td>\n",
       "      <td>1</td>\n",
       "      <td>1</td>\n",
       "      <td>2</td>\n",
       "      <td>8</td>\n",
       "      <td>NaN</td>\n",
       "      <td>196</td>\n",
       "      <td>1</td>\n",
       "      <td>0</td>\n",
       "      <td>Soda</td>\n",
       "      <td>...</td>\n",
       "      <td>Medium</td>\n",
       "      <td>Regularly busy</td>\n",
       "      <td>Regularly busy</td>\n",
       "      <td>Average orders</td>\n",
       "      <td>10</td>\n",
       "      <td>New customer</td>\n",
       "      <td>6.367797</td>\n",
       "      <td>Low spender</td>\n",
       "      <td>20.5</td>\n",
       "      <td>Non-frequent customer</td>\n",
       "    </tr>\n",
       "    <tr>\n",
       "      <th>1</th>\n",
       "      <td>2398795</td>\n",
       "      <td>1</td>\n",
       "      <td>2</td>\n",
       "      <td>3</td>\n",
       "      <td>7</td>\n",
       "      <td>15.0</td>\n",
       "      <td>196</td>\n",
       "      <td>1</td>\n",
       "      <td>1</td>\n",
       "      <td>Soda</td>\n",
       "      <td>...</td>\n",
       "      <td>Medium</td>\n",
       "      <td>Regularly busy</td>\n",
       "      <td>Least busy</td>\n",
       "      <td>Average orders</td>\n",
       "      <td>10</td>\n",
       "      <td>New customer</td>\n",
       "      <td>6.367797</td>\n",
       "      <td>Low spender</td>\n",
       "      <td>20.5</td>\n",
       "      <td>Non-frequent customer</td>\n",
       "    </tr>\n",
       "    <tr>\n",
       "      <th>2</th>\n",
       "      <td>473747</td>\n",
       "      <td>1</td>\n",
       "      <td>3</td>\n",
       "      <td>3</td>\n",
       "      <td>12</td>\n",
       "      <td>21.0</td>\n",
       "      <td>196</td>\n",
       "      <td>1</td>\n",
       "      <td>1</td>\n",
       "      <td>Soda</td>\n",
       "      <td>...</td>\n",
       "      <td>Medium</td>\n",
       "      <td>Regularly busy</td>\n",
       "      <td>Least busy</td>\n",
       "      <td>Most orders</td>\n",
       "      <td>10</td>\n",
       "      <td>New customer</td>\n",
       "      <td>6.367797</td>\n",
       "      <td>Low spender</td>\n",
       "      <td>20.5</td>\n",
       "      <td>Non-frequent customer</td>\n",
       "    </tr>\n",
       "    <tr>\n",
       "      <th>3</th>\n",
       "      <td>2254736</td>\n",
       "      <td>1</td>\n",
       "      <td>4</td>\n",
       "      <td>4</td>\n",
       "      <td>7</td>\n",
       "      <td>29.0</td>\n",
       "      <td>196</td>\n",
       "      <td>1</td>\n",
       "      <td>1</td>\n",
       "      <td>Soda</td>\n",
       "      <td>...</td>\n",
       "      <td>Medium</td>\n",
       "      <td>Least busy</td>\n",
       "      <td>Least busy</td>\n",
       "      <td>Average orders</td>\n",
       "      <td>10</td>\n",
       "      <td>New customer</td>\n",
       "      <td>6.367797</td>\n",
       "      <td>Low spender</td>\n",
       "      <td>20.5</td>\n",
       "      <td>Non-frequent customer</td>\n",
       "    </tr>\n",
       "    <tr>\n",
       "      <th>4</th>\n",
       "      <td>431534</td>\n",
       "      <td>1</td>\n",
       "      <td>5</td>\n",
       "      <td>4</td>\n",
       "      <td>15</td>\n",
       "      <td>28.0</td>\n",
       "      <td>196</td>\n",
       "      <td>1</td>\n",
       "      <td>1</td>\n",
       "      <td>Soda</td>\n",
       "      <td>...</td>\n",
       "      <td>Medium</td>\n",
       "      <td>Least busy</td>\n",
       "      <td>Least busy</td>\n",
       "      <td>Most orders</td>\n",
       "      <td>10</td>\n",
       "      <td>New customer</td>\n",
       "      <td>6.367797</td>\n",
       "      <td>Low spender</td>\n",
       "      <td>20.5</td>\n",
       "      <td>Non-frequent customer</td>\n",
       "    </tr>\n",
       "  </tbody>\n",
       "</table>\n",
       "<p>5 rows × 23 columns</p>\n",
       "</div>"
      ],
      "text/plain": [
       "   order_id  user_id  number_of_orders  order_day_of_week  order_hour_of_day  \\\n",
       "0   2539329        1                 1                  2                  8   \n",
       "1   2398795        1                 2                  3                  7   \n",
       "2    473747        1                 3                  3                 12   \n",
       "3   2254736        1                 4                  4                  7   \n",
       "4    431534        1                 5                  4                 15   \n",
       "\n",
       "   days_since_prior_order  product_id  add_to_cart_order  reordered  \\\n",
       "0                     NaN         196                  1          0   \n",
       "1                    15.0         196                  1          1   \n",
       "2                    21.0         196                  1          1   \n",
       "3                    29.0         196                  1          1   \n",
       "4                    28.0         196                  1          1   \n",
       "\n",
       "  product_name  ...  price_range        busy_day      busy_day_2  \\\n",
       "0         Soda  ...       Medium  Regularly busy  Regularly busy   \n",
       "1         Soda  ...       Medium  Regularly busy      Least busy   \n",
       "2         Soda  ...       Medium  Regularly busy      Least busy   \n",
       "3         Soda  ...       Medium      Least busy      Least busy   \n",
       "4         Soda  ...       Medium      Least busy      Least busy   \n",
       "\n",
       "  busiest_period_of_day max_number_of_orders  loyalty_flag avg_spend  \\\n",
       "0        Average orders                   10  New customer  6.367797   \n",
       "1        Average orders                   10  New customer  6.367797   \n",
       "2           Most orders                   10  New customer  6.367797   \n",
       "3        Average orders                   10  New customer  6.367797   \n",
       "4           Most orders                   10  New customer  6.367797   \n",
       "\n",
       "    spend_flag median_d_s_p_o         frequency_flag  \n",
       "0  Low spender           20.5  Non-frequent customer  \n",
       "1  Low spender           20.5  Non-frequent customer  \n",
       "2  Low spender           20.5  Non-frequent customer  \n",
       "3  Low spender           20.5  Non-frequent customer  \n",
       "4  Low spender           20.5  Non-frequent customer  \n",
       "\n",
       "[5 rows x 23 columns]"
      ]
     },
     "execution_count": 5,
     "metadata": {},
     "output_type": "execute_result"
    }
   ],
   "source": [
    "df_ords_prods_merged_3.head()"
   ]
  },
  {
   "cell_type": "markdown",
   "id": "26fe0588",
   "metadata": {},
   "source": [
    "# 03. Bar charts"
   ]
  },
  {
   "cell_type": "code",
   "execution_count": 6,
   "id": "ef985a94",
   "metadata": {},
   "outputs": [
    {
     "data": {
      "text/plain": [
       "<AxesSubplot:>"
      ]
     },
     "execution_count": 6,
     "metadata": {},
     "output_type": "execute_result"
    },
    {
     "data": {
      "image/png": "[encoded data removed]",
      "text/plain": [
       "<Figure size 640x480 with 1 Axes>"
      ]
     },
     "metadata": {},
     "output_type": "display_data"
    }
   ],
   "source": [
    "# Create bar chart for order_day_of_week\n",
    "df_ords_prods_merged_3['order_day_of_week'].value_counts().plot.bar()"
   ]
  },
  {
   "cell_type": "code",
   "execution_count": 7,
   "id": "3451b3c1",
   "metadata": {},
   "outputs": [
    {
     "data": {
      "text/plain": [
       "<AxesSubplot:>"
      ]
     },
     "execution_count": 7,
     "metadata": {},
     "output_type": "execute_result"
    },
    {
     "data": {
      "image/png": "[encoded data removed]",
      "text/plain": [
       "<Figure size 640x480 with 1 Axes>"
      ]
     },
     "metadata": {},
     "output_type": "display_data"
    }
   ],
   "source": [
    "# Sort bars according to number of day ascending\n",
    "df_ords_prods_merged_3['order_day_of_week'].value_counts().sort_index().plot.bar()"
   ]
  },
  {
   "cell_type": "code",
   "execution_count": 8,
   "id": "b97054c7",
   "metadata": {
    "scrolled": true
   },
   "outputs": [
    {
     "data": {
      "text/plain": [
       "<AxesSubplot:>"
      ]
     },
     "execution_count": 8,
     "metadata": {},
     "output_type": "execute_result"
    },
    {
     "data": {
      "image/png": "[encoded data removed]",
      "text/plain": [
       "<Figure size 640x480 with 1 Axes>"
      ]
     },
     "metadata": {},
     "output_type": "display_data"
    }
   ],
   "source": [
    "# Assign colors to bars\n",
    "df_ords_prods_merged_3['order_day_of_week'].value_counts().plot.bar(color = ['purple', 'red', 'pink', 'orange', 'yellow', 'green', 'blue'])"
   ]
  },
  {
   "cell_type": "code",
   "execution_count": 17,
   "id": "20bf8cee",
   "metadata": {},
   "outputs": [
    {
     "data": {
      "text/plain": [
       "Text(0, 0.5, 'number of orders')"
      ]
     },
     "execution_count": 17,
     "metadata": {},
     "output_type": "execute_result"
    },
    {
     "data": {
      "image/png": "[encoded data removed]",
      "text/plain": [
       "<Figure size 640x480 with 1 Axes>"
      ]
     },
     "metadata": {},
     "output_type": "display_data"
    }
   ],
   "source": [
    "# Save the chosen version of the chart as a specific object, here called 'bar', with all the details wanted\n",
    "bar = df_ords_prods_merged_3['order_day_of_week'].value_counts().sort_index().plot.bar()\n",
    "plt.xlabel('day of week')\n",
    "plt.ylabel('number of orders')"
   ]
  },
  {
   "cell_type": "code",
   "execution_count": 10,
   "id": "dfdc6fea",
   "metadata": {
    "scrolled": false
   },
   "outputs": [
    {
     "data": {
      "image/png": "[encoded data removed]",
      "text/plain": [
       "<Figure size 640x480 with 1 Axes>"
      ]
     },
     "execution_count": 10,
     "metadata": {},
     "output_type": "execute_result"
    }
   ],
   "source": [
    "# Call the object 'bar' to check output\n",
    "bar.figure"
   ]
  },
  {
   "cell_type": "code",
   "execution_count": 18,
   "id": "119fc69a",
   "metadata": {},
   "outputs": [],
   "source": [
    "# Export chart as image\n",
    "bar.figure.savefig(os.path.join(path, '04 Analysis', 'Visualizations', 'bar_orders_dows_exercise_4.9.png'))"
   ]
  },
  {
   "cell_type": "markdown",
   "id": "6a12393c",
   "metadata": {},
   "source": [
    "# 04. Histograms and scatterplots"
   ]
  },
  {
   "cell_type": "code",
   "execution_count": 12,
   "id": "1e381a26",
   "metadata": {},
   "outputs": [
    {
     "data": {
      "text/plain": [
       "<AxesSubplot:ylabel='Frequency'>"
      ]
     },
     "execution_count": 12,
     "metadata": {},
     "output_type": "execute_result"
    },
    {
     "data": {
      "image/png": "[encoded data removed]",
      "text/plain": [
       "<Figure size 640x480 with 1 Axes>"
      ]
     },
     "metadata": {},
     "output_type": "display_data"
    }
   ],
   "source": [
    "# Create histogram of column 'price'\n",
    "# Why are all values in one bucket?\n",
    "df_ords_prods_merged_3['price'].plot.hist(bins = 25)"
   ]
  },
  {
   "cell_type": "code",
   "execution_count": 13,
   "id": "3a39ce57",
   "metadata": {},
   "outputs": [
    {
     "data": {
      "text/plain": [
       "count    3.240485e+07\n",
       "mean     1.198023e+01\n",
       "std      4.956555e+02\n",
       "min      1.000000e+00\n",
       "25%      4.200000e+00\n",
       "50%      7.400000e+00\n",
       "75%      1.130000e+01\n",
       "max      9.999900e+04\n",
       "Name: price, dtype: float64"
      ]
     },
     "execution_count": 13,
     "metadata": {},
     "output_type": "execute_result"
    }
   ],
   "source": [
    "# Run checks. Max looks suspiciously high\n",
    "df_ords_prods_merged_3['price'].describe()"
   ]
  },
  {
   "cell_type": "code",
   "execution_count": 14,
   "id": "3558c502",
   "metadata": {
    "scrolled": true
   },
   "outputs": [
    {
     "data": {
      "text/plain": [
       "<AxesSubplot:xlabel='price', ylabel='price'>"
      ]
     },
     "execution_count": 14,
     "metadata": {},
     "output_type": "execute_result"
    },
    {
     "data": {
      "image/png": "[encoded data removed]",
      "text/plain": [
       "<Figure size 640x480 with 1 Axes>"
      ]
     },
     "metadata": {},
     "output_type": "display_data"
    }
   ],
   "source": [
    "# Create scatterplot\n",
    "# See some extreme outliers\n",
    "sns.scatterplot(x = 'price', y = 'price', data = df_ords_prods_merged_3)"
   ]
  },
  {
   "cell_type": "code",
   "execution_count": 15,
   "id": "977a1f26",
   "metadata": {},
   "outputs": [
    {
     "data": {
      "image/png": "[encoded data removed]",
      "text/plain": [
       "<Figure size 640x480 with 1 Axes>"
      ]
     },
     "metadata": {},
     "output_type": "display_data"
    }
   ],
   "source": [
    "# Save scattrelplot as object\n",
    "scatter = sns.scatterplot(x = 'price', y = 'price', data = df_ords_prods_merged_3)"
   ]
  },
  {
   "cell_type": "code",
   "execution_count": 16,
   "id": "479d30e0",
   "metadata": {},
   "outputs": [],
   "source": [
    "# Export scatterplot as image\n",
    "scatter.figure.savefig(os.path.join(path, '04 Analysis', 'Visualizations', 'scatterplot_price_exercise_4.9.png'))"
   ]
  },
  {
   "cell_type": "code",
   "execution_count": null,
   "id": "6d1af6c3",
   "metadata": {},
   "outputs": [],
   "source": [
    "# THE DATAFRAME HAS TOO MANY USELESS COLUMNS\n",
    "# Drop useless columns\n",
    "df_ords_prods_merged_3 = df_ords_prods_merged_3.drop(columns = ['busy_day_2', 'max_number_of_orders', 'avg_spend', 'median_d_s_p_o'])"
   ]
  },
  {
   "cell_type": "code",
   "execution_count": null,
   "id": "42e7eb2e",
   "metadata": {},
   "outputs": [],
   "source": [
    "# Check output\n",
    "df_ords_prods_merged_3.head()"
   ]
  },
  {
   "cell_type": "code",
   "execution_count": null,
   "id": "d2e857cc",
   "metadata": {},
   "outputs": [],
   "source": [
    "df_ords_prods_merged_3.shape"
   ]
  },
  {
   "cell_type": "code",
   "execution_count": null,
   "id": "feaa9dcb",
   "metadata": {
    "scrolled": true
   },
   "outputs": [],
   "source": [
    "# CONTINUE EXERCISE AFTER DROPPING USELESS COLUMNS\n",
    "# Check data. Look for prices higher than 100 USD\n",
    "df_ords_prods_merged_3.loc[df_ords_prods_merged_3['price'] > 100]"
   ]
  },
  {
   "cell_type": "code",
   "execution_count": null,
   "id": "4a19edd5",
   "metadata": {},
   "outputs": [],
   "source": [
    "# Such high prices make no sense. It must be a mistake of some sort\n",
    "# We therefore turn them into NaNs\n",
    "df_ords_prods_merged_3.loc[df_ords_prods_merged_3['price'] >100, 'price'] = np.nan"
   ]
  },
  {
   "cell_type": "code",
   "execution_count": null,
   "id": "f6bc9dd2",
   "metadata": {},
   "outputs": [],
   "source": [
    "# Check output\n",
    "df_ords_prods_merged_3['price'].describe()"
   ]
  },
  {
   "cell_type": "code",
   "execution_count": null,
   "id": "8f15d241",
   "metadata": {},
   "outputs": [],
   "source": [
    "df_ords_prods_merged_3['price'].max()"
   ]
  },
  {
   "cell_type": "code",
   "execution_count": null,
   "id": "db05b6fa",
   "metadata": {},
   "outputs": [],
   "source": [
    "# Try again create a histogram\n",
    "df_ords_prods_merged_3['price'].plot.hist(bins = 25)"
   ]
  },
  {
   "cell_type": "code",
   "execution_count": null,
   "id": "0db6a75c",
   "metadata": {},
   "outputs": [],
   "source": [
    "# Increase granularity\n",
    "df_ords_prods_merged_3['price'].plot.hist(bins = 70)"
   ]
  },
  {
   "cell_type": "code",
   "execution_count": null,
   "id": "c47fe6af",
   "metadata": {},
   "outputs": [],
   "source": [
    "# Save histogram as specific object\n",
    "hist = df_ords_prods_merged_3['price'].plot.hist(bins = 70)"
   ]
  },
  {
   "cell_type": "code",
   "execution_count": null,
   "id": "37d4e588",
   "metadata": {},
   "outputs": [],
   "source": [
    "# Export chart as image\n",
    "hist.figure.savefig(os.path.join(path, '04 Analysis', 'Visualizations', 'hist_prices_exercise_4.9.png'))"
   ]
  },
  {
   "cell_type": "markdown",
   "id": "60682aab",
   "metadata": {},
   "source": [
    "# 05. Sample data"
   ]
  },
  {
   "cell_type": "code",
   "execution_count": null,
   "id": "e00d1754",
   "metadata": {},
   "outputs": [],
   "source": [
    "# Create randomized sample 70/30\n",
    "# First create list flagging rows True/False in dev column\n",
    "np.random.seed(4)\n",
    "dev = np.random.rand(len(df_ords_prods_merged_3)) <= 0.7"
   ]
  },
  {
   "cell_type": "code",
   "execution_count": null,
   "id": "8ed6b260",
   "metadata": {},
   "outputs": [],
   "source": [
    "# Check output\n",
    "dev"
   ]
  },
  {
   "cell_type": "code",
   "execution_count": null,
   "id": "f91a418b",
   "metadata": {},
   "outputs": [],
   "source": [
    "# Store 70% of list in sample_large\n",
    "sample_large = df_ords_prods_merged_3[dev]"
   ]
  },
  {
   "cell_type": "code",
   "execution_count": null,
   "id": "d2ba96f7",
   "metadata": {},
   "outputs": [],
   "source": [
    "#Store 30& in sample_small\n",
    "sample_small = df_ords_prods_merged_3[~dev]"
   ]
  },
  {
   "cell_type": "code",
   "execution_count": null,
   "id": "0a6a8b66",
   "metadata": {},
   "outputs": [],
   "source": [
    "# Check output\n",
    "len(df_ords_prods_merged_3)"
   ]
  },
  {
   "cell_type": "code",
   "execution_count": null,
   "id": "92253a0d",
   "metadata": {},
   "outputs": [],
   "source": [
    "len(sample_large)"
   ]
  },
  {
   "cell_type": "code",
   "execution_count": null,
   "id": "d8b40da6",
   "metadata": {},
   "outputs": [],
   "source": [
    "len(sample_small)"
   ]
  },
  {
   "cell_type": "code",
   "execution_count": null,
   "id": "ac727cc1",
   "metadata": {},
   "outputs": [],
   "source": [
    "len(sample_large) + len(sample_small)"
   ]
  },
  {
   "cell_type": "code",
   "execution_count": null,
   "id": "ddebd3a5",
   "metadata": {},
   "outputs": [],
   "source": [
    "# Further reduce dataframe to only columns I need to create chart\n",
    "df_small_day_price = sample_small[['order_day_of_week', 'price']]"
   ]
  },
  {
   "cell_type": "code",
   "execution_count": null,
   "id": "5ae4da98",
   "metadata": {},
   "outputs": [],
   "source": [
    "# Check output\n",
    "df_small_day_price.shape"
   ]
  },
  {
   "cell_type": "code",
   "execution_count": null,
   "id": "bc8581f9",
   "metadata": {},
   "outputs": [],
   "source": [
    "df_small_day_price.head()"
   ]
  },
  {
   "cell_type": "code",
   "execution_count": null,
   "id": "6e783402",
   "metadata": {},
   "outputs": [],
   "source": [
    "# Create line chart\n",
    "line = sns.lineplot(data = df_small_day_price, x = 'order_day_of_week', y = 'price')"
   ]
  },
  {
   "cell_type": "code",
   "execution_count": null,
   "id": "c87a30be",
   "metadata": {},
   "outputs": [],
   "source": [
    "# Export chart as image\n",
    "line.figure.savefig(os.path.join(path, '04 Analysis', 'Visualizations', 'line_day_price_exercise_4.9.png'))"
   ]
  }
 ],
 "metadata": {
  "kernelspec": {
   "display_name": "Python 3 (ipykernel)",
   "language": "python",
   "name": "python3"
  },
  "language_info": {
   "codemirror_mode": {
    "name": "ipython",
    "version": 3
   },
   "file_extension": ".py",
   "mimetype": "text/x-python",
   "name": "python",
   "nbconvert_exporter": "python",
   "pygments_lexer": "ipython3",
   "version": "3.9.13"
  }
 },
 "nbformat": 4,
 "nbformat_minor": 5
}
