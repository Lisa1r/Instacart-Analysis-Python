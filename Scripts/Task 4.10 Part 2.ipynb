{
 "cells": [
  {
   "cell_type": "markdown",
   "id": "ef390140",
   "metadata": {},
   "source": [
    "# Table of Contents¶\n",
    "1. Import libraries\n",
    "2. Import and prepare data set\n",
    "3. Exclude low-activity customers\n",
    "4. Create customer profiles\n",
    "5. Analyze customer profiles\n",
    "6. Analyze customer profiles across regions and departments"
   ]
  },
  {
   "cell_type": "markdown",
   "id": "7d3d0207",
   "metadata": {},
   "source": [
    "# 1. Import libraries"
   ]
  },
  {
   "cell_type": "code",
   "execution_count": 1,
   "id": "12316703",
   "metadata": {},
   "outputs": [],
   "source": [
    "import pandas as pd\n",
    "import numpy as np\n",
    "import os\n",
    "import matplotlib.pyplot as plt\n",
    "import seaborn as sns\n",
    "import scipy"
   ]
  },
  {
   "cell_type": "markdown",
   "id": "cea94104",
   "metadata": {},
   "source": [
    "# 2. Import and prepare data set"
   ]
  },
  {
   "cell_type": "code",
   "execution_count": 2,
   "id": "8f59bc4b",
   "metadata": {},
   "outputs": [],
   "source": [
    "# Define path\n",
    "path = r'/Users/elisabetta/Documents/12-2022 Instacart Basket Analysis'"
   ]
  },
  {
   "cell_type": "code",
   "execution_count": 3,
   "id": "276964c7",
   "metadata": {},
   "outputs": [],
   "source": [
    "# Import latest file\n",
    "df_ords_prods_custs = pd.read_pickle(os.path.join(path, '02 Data', 'Prepared Data', 'orders_products_customers.pkl'))"
   ]
  },
  {
   "cell_type": "code",
   "execution_count": 4,
   "id": "2b96bd78",
   "metadata": {},
   "outputs": [],
   "source": [
    "# For privacy reasons, drop first_name and second_name columns. Customers will still be identifiable via their unique user_id\n",
    "\n",
    "# Drop column first_name\n",
    "df_ords_prods_custs = df_ords_prods_custs.drop(columns = ['first_name'])\n",
    "\n",
    "# Drop column second_name\n",
    "df_ords_prods_custs = df_ords_prods_custs.drop(columns = ['second_name'])"
   ]
  },
  {
   "cell_type": "code",
   "execution_count": 6,
   "id": "473e944f",
   "metadata": {},
   "outputs": [
    {
     "data": {
      "text/plain": [
       "(32404854, 22)"
      ]
     },
     "execution_count": 6,
     "metadata": {},
     "output_type": "execute_result"
    }
   ],
   "source": [
    "# Check output\n",
    "df_ords_prods_custs.shape"
   ]
  },
  {
   "cell_type": "markdown",
   "id": "fe87c1e0",
   "metadata": {},
   "source": [
    "# 3. Exclude low-activity customers"
   ]
  },
  {
   "cell_type": "code",
   "execution_count": 7,
   "id": "daa9739e",
   "metadata": {},
   "outputs": [],
   "source": [
    "# Use .loc() method to create ecxlusion flag"
   ]
  },
  {
   "cell_type": "code",
   "execution_count": 8,
   "id": "77fa86c2",
   "metadata": {},
   "outputs": [],
   "source": [
    "df_ords_prods_custs.loc[df_ords_prods_custs['number_of_orders'] < 5, 'active_status'] = 'Low activity'"
   ]
  },
  {
   "cell_type": "code",
   "execution_count": 9,
   "id": "9af59718",
   "metadata": {},
   "outputs": [],
   "source": [
    "df_ords_prods_custs.loc[df_ords_prods_custs['number_of_orders'] >= 5, 'active_status'] = 'High activity'"
   ]
  },
  {
   "cell_type": "code",
   "execution_count": 10,
   "id": "84678e6e",
   "metadata": {},
   "outputs": [
    {
     "data": {
      "text/plain": [
       "High activity    24414877\n",
       "Low activity      7989977\n",
       "Name: active_status, dtype: int64"
      ]
     },
     "execution_count": 10,
     "metadata": {},
     "output_type": "execute_result"
    }
   ],
   "source": [
    "# Check values in new column active_status\n",
    "df_ords_prods_custs['active_status'].value_counts(dropna = False)"
   ]
  },
  {
   "cell_type": "code",
   "execution_count": 11,
   "id": "0514a147",
   "metadata": {},
   "outputs": [],
   "source": [
    "# Drop low activity customers\n",
    "df_ords_prods_custs = df_ords_prods_custs[df_ords_prods_custs.active_status != 'Low activity']"
   ]
  },
  {
   "cell_type": "code",
   "execution_count": 12,
   "id": "cef884e3",
   "metadata": {},
   "outputs": [
    {
     "data": {
      "text/plain": [
       "High activity    24414877\n",
       "Name: active_status, dtype: int64"
      ]
     },
     "execution_count": 12,
     "metadata": {},
     "output_type": "execute_result"
    }
   ],
   "source": [
    "# Check output\n",
    "df_ords_prods_custs['active_status'].value_counts(dropna = False)"
   ]
  },
  {
   "cell_type": "code",
   "execution_count": 13,
   "id": "8ff9b56b",
   "metadata": {},
   "outputs": [
    {
     "data": {
      "text/plain": [
       "(24414877, 23)"
      ]
     },
     "execution_count": 13,
     "metadata": {},
     "output_type": "execute_result"
    }
   ],
   "source": [
    "df_ords_prods_custs.shape"
   ]
  },
  {
   "cell_type": "markdown",
   "id": "f95c0f28",
   "metadata": {},
   "source": [
    "# 4. Create customer profiles"
   ]
  },
  {
   "cell_type": "code",
   "execution_count": 15,
   "id": "0e8cfc3c",
   "metadata": {},
   "outputs": [
    {
     "data": {
      "text/plain": [
       "3    6133537\n",
       "0    6105002\n",
       "2    6094231\n",
       "1    6082107\n",
       "Name: n_dependants, dtype: int64"
      ]
     },
     "execution_count": 15,
     "metadata": {},
     "output_type": "execute_result"
    }
   ],
   "source": [
    "# Check values in column n_dependants\n",
    "df_ords_prods_custs['n_dependants'].value_counts(dropna = False)"
   ]
  },
  {
   "cell_type": "code",
   "execution_count": 16,
   "id": "1b9842b1",
   "metadata": {},
   "outputs": [],
   "source": [
    "# Create customer profile flag\n",
    "cust_prof_for = []\n",
    "for value in df_ords_prods_custs['n_dependants']:\n",
    "    if value == 0 :\n",
    "        cust_prof_for.append('Single')\n",
    "    elif value == 1  :\n",
    "        cust_prof_for.append('Couple')\n",
    "    else:\n",
    "        cust_prof_for.append('With children')"
   ]
  },
  {
   "cell_type": "code",
   "execution_count": 17,
   "id": "60485b44",
   "metadata": {},
   "outputs": [],
   "source": [
    "# Put output in new column cust_prof\n",
    "df_ords_prods_custs['cust_prof'] = cust_prof_for"
   ]
  },
  {
   "cell_type": "code",
   "execution_count": 18,
   "id": "635bc824",
   "metadata": {},
   "outputs": [
    {
     "data": {
      "text/plain": [
       "With children    12227768\n",
       "Single            6105002\n",
       "Couple            6082107\n",
       "Name: cust_prof, dtype: int64"
      ]
     },
     "execution_count": 18,
     "metadata": {},
     "output_type": "execute_result"
    }
   ],
   "source": [
    "# Check output\n",
    "df_ords_prods_custs['cust_prof'].value_counts(dropna = False)"
   ]
  },
  {
   "cell_type": "code",
   "execution_count": 19,
   "id": "8623894b",
   "metadata": {},
   "outputs": [
    {
     "data": {
      "text/plain": [
       "(24414877, 24)"
      ]
     },
     "execution_count": 19,
     "metadata": {},
     "output_type": "execute_result"
    }
   ],
   "source": [
    "df_ords_prods_custs.shape"
   ]
  },
  {
   "cell_type": "code",
   "execution_count": 20,
   "id": "4fb6f83f",
   "metadata": {},
   "outputs": [
    {
     "data": {
      "image/png": "[encoded data removed]",
      "text/plain": [
       "<Figure size 640x480 with 1 Axes>"
      ]
     },
     "metadata": {},
     "output_type": "display_data"
    }
   ],
   "source": [
    "# Create a visualization of the distribution of the customer profiles\n",
    "bar_distr_cust_prof = df_ords_prods_custs['cust_prof'].value_counts().plot.bar(color = ['yellow', 'orange', 'red'])\n",
    "plt.xlabel('customer profile')\n",
    "plt.ylabel('number of customers')\n",
    "plt.xticks (rotation = 45)\n",
    "plt.tight_layout()"
   ]
  },
  {
   "cell_type": "code",
   "execution_count": 21,
   "id": "073bc6bd",
   "metadata": {},
   "outputs": [],
   "source": [
    "# Export bar chart\n",
    "bar_distr_cust_prof.figure.savefig(os.path.join(path, '04 Analysis', 'Visualizations', 'bar_distr_cust_prof_4.10.png'))"
   ]
  },
  {
   "cell_type": "markdown",
   "id": "c6d735ef",
   "metadata": {},
   "source": [
    "# 5. Analyze customer profiles"
   ]
  },
  {
   "cell_type": "code",
   "execution_count": 24,
   "id": "16112470",
   "metadata": {},
   "outputs": [],
   "source": [
    "# Aggregate the max, mean, and min on customer profile for spend\n",
    "df_cust_prof_agg_spend = df_ords_prods_custs.groupby('cust_prof')['price'].agg(['max', 'min', 'mean'])"
   ]
  },
  {
   "cell_type": "code",
   "execution_count": 25,
   "id": "1ad25148",
   "metadata": {},
   "outputs": [
    {
     "data": {
      "text/html": [
       "<div>\n",
       "<style scoped>\n",
       "    .dataframe tbody tr th:only-of-type {\n",
       "        vertical-align: middle;\n",
       "    }\n",
       "\n",
       "    .dataframe tbody tr th {\n",
       "        vertical-align: top;\n",
       "    }\n",
       "\n",
       "    .dataframe thead th {\n",
       "        text-align: right;\n",
       "    }\n",
       "</style>\n",
       "<table border=\"1\" class=\"dataframe\">\n",
       "  <thead>\n",
       "    <tr style=\"text-align: right;\">\n",
       "      <th></th>\n",
       "      <th>max</th>\n",
       "      <th>min</th>\n",
       "      <th>mean</th>\n",
       "    </tr>\n",
       "    <tr>\n",
       "      <th>cust_prof</th>\n",
       "      <th></th>\n",
       "      <th></th>\n",
       "      <th></th>\n",
       "    </tr>\n",
       "  </thead>\n",
       "  <tbody>\n",
       "    <tr>\n",
       "      <th>Couple</th>\n",
       "      <td>99999.0</td>\n",
       "      <td>1.0</td>\n",
       "      <td>11.510665</td>\n",
       "    </tr>\n",
       "    <tr>\n",
       "      <th>Single</th>\n",
       "      <td>99999.0</td>\n",
       "      <td>1.0</td>\n",
       "      <td>12.029888</td>\n",
       "    </tr>\n",
       "    <tr>\n",
       "      <th>With children</th>\n",
       "      <td>99999.0</td>\n",
       "      <td>1.0</td>\n",
       "      <td>11.885824</td>\n",
       "    </tr>\n",
       "  </tbody>\n",
       "</table>\n",
       "</div>"
      ],
      "text/plain": [
       "                   max  min       mean\n",
       "cust_prof                             \n",
       "Couple         99999.0  1.0  11.510665\n",
       "Single         99999.0  1.0  12.029888\n",
       "With children  99999.0  1.0  11.885824"
      ]
     },
     "execution_count": 25,
     "metadata": {},
     "output_type": "execute_result"
    }
   ],
   "source": [
    "df_cust_prof_agg_spend"
   ]
  },
  {
   "cell_type": "code",
   "execution_count": 26,
   "id": "57b83f90",
   "metadata": {},
   "outputs": [],
   "source": [
    "# Aggregate the max, mean, and min on customer profile for number of orders\n",
    "df_cust_prof_agg_n_ords = df_ords_prods_custs.groupby('cust_prof')['number_of_orders'].agg(['max', 'min', 'mean'])"
   ]
  },
  {
   "cell_type": "code",
   "execution_count": 27,
   "id": "5df0d4d3",
   "metadata": {},
   "outputs": [
    {
     "data": {
      "text/html": [
       "<div>\n",
       "<style scoped>\n",
       "    .dataframe tbody tr th:only-of-type {\n",
       "        vertical-align: middle;\n",
       "    }\n",
       "\n",
       "    .dataframe tbody tr th {\n",
       "        vertical-align: top;\n",
       "    }\n",
       "\n",
       "    .dataframe thead th {\n",
       "        text-align: right;\n",
       "    }\n",
       "</style>\n",
       "<table border=\"1\" class=\"dataframe\">\n",
       "  <thead>\n",
       "    <tr style=\"text-align: right;\">\n",
       "      <th></th>\n",
       "      <th>max</th>\n",
       "      <th>min</th>\n",
       "      <th>mean</th>\n",
       "    </tr>\n",
       "    <tr>\n",
       "      <th>cust_prof</th>\n",
       "      <th></th>\n",
       "      <th></th>\n",
       "      <th></th>\n",
       "    </tr>\n",
       "  </thead>\n",
       "  <tbody>\n",
       "    <tr>\n",
       "      <th>Couple</th>\n",
       "      <td>99</td>\n",
       "      <td>5</td>\n",
       "      <td>21.911415</td>\n",
       "    </tr>\n",
       "    <tr>\n",
       "      <th>Single</th>\n",
       "      <td>99</td>\n",
       "      <td>5</td>\n",
       "      <td>22.099175</td>\n",
       "    </tr>\n",
       "    <tr>\n",
       "      <th>With children</th>\n",
       "      <td>99</td>\n",
       "      <td>5</td>\n",
       "      <td>21.894506</td>\n",
       "    </tr>\n",
       "  </tbody>\n",
       "</table>\n",
       "</div>"
      ],
      "text/plain": [
       "               max  min       mean\n",
       "cust_prof                         \n",
       "Couple          99    5  21.911415\n",
       "Single          99    5  22.099175\n",
       "With children   99    5  21.894506"
      ]
     },
     "execution_count": 27,
     "metadata": {},
     "output_type": "execute_result"
    }
   ],
   "source": [
    "df_cust_prof_agg_n_ords"
   ]
  },
  {
   "cell_type": "markdown",
   "id": "661c6d33",
   "metadata": {},
   "source": [
    "# 6. Analyze customer profiles across regions and departments"
   ]
  },
  {
   "cell_type": "code",
   "execution_count": 28,
   "id": "83d551d9",
   "metadata": {},
   "outputs": [],
   "source": [
    "# How does family structure (customer profile) vary across regions?"
   ]
  },
  {
   "cell_type": "code",
   "execution_count": 40,
   "id": "e6a8d666",
   "metadata": {},
   "outputs": [],
   "source": [
    "# Create region flag\n",
    "regions_for = []\n",
    "for value in df_ords_prods_custs['state']:\n",
    "    if value == 'Maine' or value == 'New Hampshire' or value == 'Vermont' or value == 'Massachusetts' or value == 'Rhode Island' or value == 'Connecticut' or value == 'New York' or value == 'Pennsylvania' or value == 'New Jersey':\n",
    "        regions_for.append('Northeast')\n",
    "    elif value == 'Wisconsin' or value == 'Michigan' or value == 'Illinois' or value == 'Indiana' or value == 'Ohio' or value == 'North Dakota' or value == 'South Dakota' or value == 'Nebraska' or value == 'Kansas' or value == 'Minnesota' or value == 'Iowa' or value == 'Missouri':\n",
    "        regions_for.append('Midwest')\n",
    "    elif value == '' or value == 'Delaware' or value == 'Maryland' or value == 'District of Columbia' or value == 'Virginia' or value == 'West Virginia' or value == 'North Carolina' or value == 'South Carolina' or value == 'Georgia' or value == 'Florida' or value == 'Kentucky' or value == 'Tennessee' or value == 'Mississippi' or value == 'Alabama' or value == 'Oklahoma' or value == 'Texas' or value == 'Arkansas' or value == 'Louisiana':\n",
    "        regions_for.append('South')\n",
    "    elif value == '' or value == 'Idaho' or value == 'Montana' or value == 'Wyoming' or value == 'Nevada' or value == 'Utah' or value == 'Colorado' or value == 'Arizona' or value == 'New Mexico' or value == 'Alaska' or value == 'Washington' or value == 'Oregon' or value == 'California' or value == 'Hawaii':\n",
    "        regions_for.append('West')\n",
    "    else:\n",
    "        regions_for.append('No data')"
   ]
  },
  {
   "cell_type": "code",
   "execution_count": 41,
   "id": "6e03f8d6",
   "metadata": {},
   "outputs": [],
   "source": [
    "# Put output in new column region\n",
    "df_ords_prods_custs['region'] = regions_for"
   ]
  },
  {
   "cell_type": "code",
   "execution_count": 42,
   "id": "254f3e2b",
   "metadata": {},
   "outputs": [
    {
     "data": {
      "text/plain": [
       "South        8129086\n",
       "West         6258764\n",
       "Midwest      5711756\n",
       "Northeast    4315271\n",
       "Name: region, dtype: int64"
      ]
     },
     "execution_count": 42,
     "metadata": {},
     "output_type": "execute_result"
    }
   ],
   "source": [
    "# Check output\n",
    "df_ords_prods_custs['region'].value_counts(dropna = False)"
   ]
  },
  {
   "cell_type": "code",
   "execution_count": 44,
   "id": "d5e8c2e2",
   "metadata": {},
   "outputs": [],
   "source": [
    "# Pivot region and customer profile via crosstab\n",
    "region_cust_prof = pd.crosstab(df_ords_prods_custs['region'], df_ords_prods_custs['cust_prof'], dropna = False)"
   ]
  },
  {
   "cell_type": "code",
   "execution_count": 45,
   "id": "8f3826c7",
   "metadata": {},
   "outputs": [
    {
     "data": {
      "text/html": [
       "<div>\n",
       "<style scoped>\n",
       "    .dataframe tbody tr th:only-of-type {\n",
       "        vertical-align: middle;\n",
       "    }\n",
       "\n",
       "    .dataframe tbody tr th {\n",
       "        vertical-align: top;\n",
       "    }\n",
       "\n",
       "    .dataframe thead th {\n",
       "        text-align: right;\n",
       "    }\n",
       "</style>\n",
       "<table border=\"1\" class=\"dataframe\">\n",
       "  <thead>\n",
       "    <tr style=\"text-align: right;\">\n",
       "      <th>cust_prof</th>\n",
       "      <th>Couple</th>\n",
       "      <th>Single</th>\n",
       "      <th>With children</th>\n",
       "    </tr>\n",
       "    <tr>\n",
       "      <th>region</th>\n",
       "      <th></th>\n",
       "      <th></th>\n",
       "      <th></th>\n",
       "    </tr>\n",
       "  </thead>\n",
       "  <tbody>\n",
       "    <tr>\n",
       "      <th>Midwest</th>\n",
       "      <td>1454448</td>\n",
       "      <td>1436961</td>\n",
       "      <td>2820347</td>\n",
       "    </tr>\n",
       "    <tr>\n",
       "      <th>Northeast</th>\n",
       "      <td>1087111</td>\n",
       "      <td>1065138</td>\n",
       "      <td>2163022</td>\n",
       "    </tr>\n",
       "    <tr>\n",
       "      <th>South</th>\n",
       "      <td>1997852</td>\n",
       "      <td>2038334</td>\n",
       "      <td>4092900</td>\n",
       "    </tr>\n",
       "    <tr>\n",
       "      <th>West</th>\n",
       "      <td>1542696</td>\n",
       "      <td>1564569</td>\n",
       "      <td>3151499</td>\n",
       "    </tr>\n",
       "  </tbody>\n",
       "</table>\n",
       "</div>"
      ],
      "text/plain": [
       "cust_prof   Couple   Single  With children\n",
       "region                                    \n",
       "Midwest    1454448  1436961        2820347\n",
       "Northeast  1087111  1065138        2163022\n",
       "South      1997852  2038334        4092900\n",
       "West       1542696  1564569        3151499"
      ]
     },
     "execution_count": 45,
     "metadata": {},
     "output_type": "execute_result"
    }
   ],
   "source": [
    "region_cust_prof"
   ]
  },
  {
   "cell_type": "code",
   "execution_count": 60,
   "id": "c90ce147",
   "metadata": {},
   "outputs": [
    {
     "data": {
      "image/png": "[encoded data removed]",
      "text/plain": [
       "<Figure size 640x480 with 1 Axes>"
      ]
     },
     "metadata": {},
     "output_type": "display_data"
    }
   ],
   "source": [
    "# Create bar chart from crosstab\n",
    "bar_region_cust_prof = region_cust_prof.plot(kind = 'bar')\n",
    "plt.xlabel('region')\n",
    "plt.ylabel('number of customers')\n",
    "plt.xticks (rotation = 45)\n",
    "plt.tight_layout()"
   ]
  },
  {
   "cell_type": "code",
   "execution_count": 61,
   "id": "0d4abb5a",
   "metadata": {},
   "outputs": [],
   "source": [
    "# Export chart\n",
    "bar_region_cust_prof.figure.savefig(os.path.join(path, '04 Analysis', 'Visualizations', 'bar_region_cust_prof_4.10.png'))"
   ]
  },
  {
   "cell_type": "code",
   "execution_count": 55,
   "id": "f96d319d",
   "metadata": {},
   "outputs": [],
   "source": [
    "# How does family structure (customer profile) influence buying habits?"
   ]
  },
  {
   "cell_type": "code",
   "execution_count": 56,
   "id": "8b49a401",
   "metadata": {},
   "outputs": [],
   "source": [
    "# Pivot customer profile and departments via crosstab\n",
    "cust_prof_dept = pd.crosstab(df_ords_prods_custs['cust_prof'], df_ords_prods_custs['department_id'], dropna = False)"
   ]
  },
  {
   "cell_type": "code",
   "execution_count": 57,
   "id": "5b05509b",
   "metadata": {
    "scrolled": true
   },
   "outputs": [
    {
     "data": {
      "text/html": [
       "<div>\n",
       "<style scoped>\n",
       "    .dataframe tbody tr th:only-of-type {\n",
       "        vertical-align: middle;\n",
       "    }\n",
       "\n",
       "    .dataframe tbody tr th {\n",
       "        vertical-align: top;\n",
       "    }\n",
       "\n",
       "    .dataframe thead th {\n",
       "        text-align: right;\n",
       "    }\n",
       "</style>\n",
       "<table border=\"1\" class=\"dataframe\">\n",
       "  <thead>\n",
       "    <tr style=\"text-align: right;\">\n",
       "      <th>department_id</th>\n",
       "      <th>1</th>\n",
       "      <th>10</th>\n",
       "      <th>11</th>\n",
       "      <th>12</th>\n",
       "      <th>13</th>\n",
       "      <th>14</th>\n",
       "      <th>15</th>\n",
       "      <th>16</th>\n",
       "      <th>17</th>\n",
       "      <th>18</th>\n",
       "      <th>...</th>\n",
       "      <th>2</th>\n",
       "      <th>20</th>\n",
       "      <th>21</th>\n",
       "      <th>3</th>\n",
       "      <th>4</th>\n",
       "      <th>5</th>\n",
       "      <th>6</th>\n",
       "      <th>7</th>\n",
       "      <th>8</th>\n",
       "      <th>9</th>\n",
       "    </tr>\n",
       "    <tr>\n",
       "      <th>cust_prof</th>\n",
       "      <th></th>\n",
       "      <th></th>\n",
       "      <th></th>\n",
       "      <th></th>\n",
       "      <th></th>\n",
       "      <th></th>\n",
       "      <th></th>\n",
       "      <th></th>\n",
       "      <th></th>\n",
       "      <th></th>\n",
       "      <th></th>\n",
       "      <th></th>\n",
       "      <th></th>\n",
       "      <th></th>\n",
       "      <th></th>\n",
       "      <th></th>\n",
       "      <th></th>\n",
       "      <th></th>\n",
       "      <th></th>\n",
       "      <th></th>\n",
       "      <th></th>\n",
       "    </tr>\n",
       "  </thead>\n",
       "  <tbody>\n",
       "    <tr>\n",
       "      <th>Couple</th>\n",
       "      <td>402510</td>\n",
       "      <td>7098</td>\n",
       "      <td>81775</td>\n",
       "      <td>131161</td>\n",
       "      <td>345666</td>\n",
       "      <td>132532</td>\n",
       "      <td>196987</td>\n",
       "      <td>1033153</td>\n",
       "      <td>135152</td>\n",
       "      <td>81526</td>\n",
       "      <td>...</td>\n",
       "      <td>6867</td>\n",
       "      <td>193050</td>\n",
       "      <td>14195</td>\n",
       "      <td>220794</td>\n",
       "      <td>1797255</td>\n",
       "      <td>26720</td>\n",
       "      <td>50179</td>\n",
       "      <td>505134</td>\n",
       "      <td>18298</td>\n",
       "      <td>157908</td>\n",
       "    </tr>\n",
       "    <tr>\n",
       "      <th>Single</th>\n",
       "      <td>405513</td>\n",
       "      <td>6585</td>\n",
       "      <td>82361</td>\n",
       "      <td>128206</td>\n",
       "      <td>345318</td>\n",
       "      <td>130160</td>\n",
       "      <td>195449</td>\n",
       "      <td>1030238</td>\n",
       "      <td>132159</td>\n",
       "      <td>84313</td>\n",
       "      <td>...</td>\n",
       "      <td>6935</td>\n",
       "      <td>197994</td>\n",
       "      <td>14132</td>\n",
       "      <td>221599</td>\n",
       "      <td>1812885</td>\n",
       "      <td>27959</td>\n",
       "      <td>50038</td>\n",
       "      <td>512055</td>\n",
       "      <td>18250</td>\n",
       "      <td>157414</td>\n",
       "    </tr>\n",
       "    <tr>\n",
       "      <th>With children</th>\n",
       "      <td>819591</td>\n",
       "      <td>13875</td>\n",
       "      <td>164344</td>\n",
       "      <td>264523</td>\n",
       "      <td>694391</td>\n",
       "      <td>262253</td>\n",
       "      <td>395354</td>\n",
       "      <td>2057097</td>\n",
       "      <td>272038</td>\n",
       "      <td>170108</td>\n",
       "      <td>...</td>\n",
       "      <td>13364</td>\n",
       "      <td>391967</td>\n",
       "      <td>29240</td>\n",
       "      <td>440937</td>\n",
       "      <td>3616951</td>\n",
       "      <td>53293</td>\n",
       "      <td>97683</td>\n",
       "      <td>1019258</td>\n",
       "      <td>35563</td>\n",
       "      <td>318403</td>\n",
       "    </tr>\n",
       "  </tbody>\n",
       "</table>\n",
       "<p>3 rows × 21 columns</p>\n",
       "</div>"
      ],
      "text/plain": [
       "department_id       1     10      11      12      13      14      15       16  \\\n",
       "cust_prof                                                                       \n",
       "Couple         402510   7098   81775  131161  345666  132532  196987  1033153   \n",
       "Single         405513   6585   82361  128206  345318  130160  195449  1030238   \n",
       "With children  819591  13875  164344  264523  694391  262253  395354  2057097   \n",
       "\n",
       "department_id      17      18  ...      2      20     21       3        4  \\\n",
       "cust_prof                      ...                                          \n",
       "Couple         135152   81526  ...   6867  193050  14195  220794  1797255   \n",
       "Single         132159   84313  ...   6935  197994  14132  221599  1812885   \n",
       "With children  272038  170108  ...  13364  391967  29240  440937  3616951   \n",
       "\n",
       "department_id      5      6        7      8       9  \n",
       "cust_prof                                            \n",
       "Couple         26720  50179   505134  18298  157908  \n",
       "Single         27959  50038   512055  18250  157414  \n",
       "With children  53293  97683  1019258  35563  318403  \n",
       "\n",
       "[3 rows x 21 columns]"
      ]
     },
     "execution_count": 57,
     "metadata": {},
     "output_type": "execute_result"
    }
   ],
   "source": [
    "cust_prof_dept"
   ]
  },
  {
   "cell_type": "code",
   "execution_count": 79,
   "id": "d6febc99",
   "metadata": {},
   "outputs": [],
   "source": [
    "cust_prof_dept.to_clipboard()"
   ]
  },
  {
   "cell_type": "code",
   "execution_count": 78,
   "id": "460ae73c",
   "metadata": {},
   "outputs": [
    {
     "data": {
      "image/png": "[encoded data removed]",
      "text/plain": [
       "<Figure size 640x480 with 1 Axes>"
      ]
     },
     "metadata": {},
     "output_type": "display_data"
    }
   ],
   "source": [
    "# Create bar chart from crosstab\n",
    "bar_cust_prof_dept = cust_prof_dept.plot(kind = 'bar', stacked = True)\n",
    "plt.xlabel('customer profile')\n",
    "plt.ylabel('departments')\n",
    "plt.legend(loc='best', fontsize = 6.2)\n",
    "plt.xticks (rotation = 45)\n",
    "plt.tight_layout()"
   ]
  },
  {
   "cell_type": "code",
   "execution_count": 80,
   "id": "d28d0289",
   "metadata": {},
   "outputs": [],
   "source": [
    "# Export chart\n",
    "bar_cust_prof_dept.figure.savefig(os.path.join(path, '04 Analysis', 'Visualizations', 'bar_cust_prof_dept_4.10.png'))"
   ]
  },
  {
   "cell_type": "code",
   "execution_count": null,
   "id": "7c05ae9b",
   "metadata": {},
   "outputs": [],
   "source": []
  }
 ],
 "metadata": {
  "kernelspec": {
   "display_name": "Python 3 (ipykernel)",
   "language": "python",
   "name": "python3"
  },
  "language_info": {
   "codemirror_mode": {
    "name": "ipython",
    "version": 3
   },
   "file_extension": ".py",
   "mimetype": "text/x-python",
   "name": "python",
   "nbconvert_exporter": "python",
   "pygments_lexer": "ipython3",
   "version": "3.9.13"
  }
 },
 "nbformat": 4,
 "nbformat_minor": 5
}
