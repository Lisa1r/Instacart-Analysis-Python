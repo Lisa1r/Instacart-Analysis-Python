{
 "cells": [
  {
   "cell_type": "markdown",
   "id": "1699ba03",
   "metadata": {},
   "source": [
    "# 01. Importing libraries"
   ]
  },
  {
   "cell_type": "code",
   "execution_count": 1,
   "id": "8b7ce395",
   "metadata": {},
   "outputs": [],
   "source": [
    "# Import libraries\n",
    "import pandas as pd\n",
    "import numpy as np\n",
    "import os"
   ]
  },
  {
   "cell_type": "markdown",
   "id": "4b4286d3",
   "metadata": {},
   "source": [
    "# 02. Data types"
   ]
  },
  {
   "cell_type": "code",
   "execution_count": 2,
   "id": "b502b95b",
   "metadata": {},
   "outputs": [],
   "source": [
    "# Code three different ways of reaching a result of 100 by adding/subtracting numeric values"
   ]
  },
  {
   "cell_type": "code",
   "execution_count": 3,
   "id": "e2bd4d86",
   "metadata": {},
   "outputs": [
    {
     "data": {
      "text/plain": [
       "100"
      ]
     },
     "execution_count": 3,
     "metadata": {},
     "output_type": "execute_result"
    }
   ],
   "source": [
    "75 + 25"
   ]
  },
  {
   "cell_type": "code",
   "execution_count": 4,
   "id": "729a47d8",
   "metadata": {},
   "outputs": [
    {
     "data": {
      "text/plain": [
       "100"
      ]
     },
     "execution_count": 4,
     "metadata": {},
     "output_type": "execute_result"
    }
   ],
   "source": [
    "x = 120\n",
    "y = 25\n",
    "z = 5\n",
    "x - y + z"
   ]
  },
  {
   "cell_type": "code",
   "execution_count": 6,
   "id": "fb3060f5",
   "metadata": {},
   "outputs": [
    {
     "data": {
      "text/plain": [
       "100"
      ]
     },
     "execution_count": 6,
     "metadata": {},
     "output_type": "execute_result"
    }
   ],
   "source": [
    "n = 150\n",
    "250 - n"
   ]
  },
  {
   "cell_type": "code",
   "execution_count": 7,
   "id": "e0a1701f",
   "metadata": {},
   "outputs": [],
   "source": [
    "# Code two floating-point variables and divide them by each other"
   ]
  },
  {
   "cell_type": "code",
   "execution_count": 9,
   "id": "05bac31b",
   "metadata": {},
   "outputs": [
    {
     "data": {
      "text/plain": [
       "3.6865021770682147"
      ]
     },
     "execution_count": 9,
     "metadata": {},
     "output_type": "execute_result"
    }
   ],
   "source": [
    "m = 6.89\n",
    "s = 25.4\n",
    "s/m"
   ]
  },
  {
   "cell_type": "code",
   "execution_count": 10,
   "id": "b20bdb31",
   "metadata": {},
   "outputs": [],
   "source": [
    "# Construct a short word made of separate strings"
   ]
  },
  {
   "cell_type": "code",
   "execution_count": 11,
   "id": "0dc1ff38",
   "metadata": {},
   "outputs": [
    {
     "data": {
      "text/plain": [
       "'Elephants'"
      ]
     },
     "execution_count": 11,
     "metadata": {},
     "output_type": "execute_result"
    }
   ],
   "source": [
    "e = 'Ele'\n",
    "f = 'phants'\n",
    "e + f"
   ]
  },
  {
   "cell_type": "code",
   "execution_count": 12,
   "id": "bbe81bf5",
   "metadata": {},
   "outputs": [],
   "source": [
    "# Construct 2 short sentences made of separate strings"
   ]
  },
  {
   "cell_type": "code",
   "execution_count": 15,
   "id": "52c09d8f",
   "metadata": {},
   "outputs": [
    {
     "data": {
      "text/plain": [
       "'Good morning! How are you?'"
      ]
     },
     "execution_count": 15,
     "metadata": {},
     "output_type": "execute_result"
    }
   ],
   "source": [
    "g = 'Good morning! '\n",
    "h = 'How are you?'\n",
    "g + h"
   ]
  },
  {
   "cell_type": "code",
   "execution_count": 16,
   "id": "c2cbda29",
   "metadata": {},
   "outputs": [
    {
     "data": {
      "text/plain": [
       "'Today is a really beautiful day.'"
      ]
     },
     "execution_count": 16,
     "metadata": {},
     "output_type": "execute_result"
    }
   ],
   "source": [
    "i = 'Today is'\n",
    "j = ' a really beautiful day.'\n",
    "i + j"
   ]
  },
  {
   "cell_type": "code",
   "execution_count": null,
   "id": "7999dafa",
   "metadata": {},
   "outputs": [],
   "source": []
  }
 ],
 "metadata": {
  "kernelspec": {
   "display_name": "Python 3 (ipykernel)",
   "language": "python",
   "name": "python3"
  },
  "language_info": {
   "codemirror_mode": {
    "name": "ipython",
    "version": 3
   },
   "file_extension": ".py",
   "mimetype": "text/x-python",
   "name": "python",
   "nbconvert_exporter": "python",
   "pygments_lexer": "ipython3",
   "version": "3.9.13"
  }
 },
 "nbformat": 4,
 "nbformat_minor": 5
}
